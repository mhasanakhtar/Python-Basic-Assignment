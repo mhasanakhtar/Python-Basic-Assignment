{
 "cells": [
  {
   "cell_type": "markdown",
   "metadata": {},
   "source": [
    "# Python Basic Assignment No.: 22"
   ]
  },
  {
   "cell_type": "markdown",
   "metadata": {},
   "source": [
    "### 1. What is the result of the code, and explain?"
   ]
  },
  {
   "cell_type": "code",
   "execution_count": 1,
   "metadata": {},
   "outputs": [
    {
     "name": "stdout",
     "output_type": "stream",
     "text": [
      "iNeuron\n"
     ]
    }
   ],
   "source": [
    "# String 'iNeuron' is assigned to GLOBAL VARIABLE X\n",
    "\n",
    "X = 'iNeuron'\n",
    "\n",
    "# Function is defined using def keyword with no arguments\n",
    "def func():\n",
    "\n",
    "# Code inside the function\n",
    "    print(X)\n",
    "\n",
    "# Function executed/called \n",
    "func()"
   ]
  },
  {
   "cell_type": "markdown",
   "metadata": {},
   "source": [
    "### 2. What is the result of the code, and explain?"
   ]
  },
  {
   "cell_type": "code",
   "execution_count": 12,
   "metadata": {},
   "outputs": [
    {
     "name": "stdout",
     "output_type": "stream",
     "text": [
      "iNeuron\n"
     ]
    }
   ],
   "source": [
    "# String 'iNeuron' is assigned to GLOBAL VARIABLE X\n",
    "\n",
    "X = 'iNeuron'\n",
    "\n",
    "# Function is defined using def keyword with no arguments\n",
    "def func():\n",
    "    \n",
    "    # Variable X is defined this is a LOCAL VARIABLE because it is inside the function\n",
    "    X = 'NI!'\n",
    "\n",
    "# Function is called but it is not returning anything since only varaible is defined inside the function\n",
    "func()\n",
    "\n",
    "# Print Command printed the GLOBAL VARIABLE X \n",
    "print(X)"
   ]
  },
  {
   "cell_type": "markdown",
   "metadata": {},
   "source": [
    "### 3. What does this code print, and why?"
   ]
  },
  {
   "cell_type": "code",
   "execution_count": 13,
   "metadata": {},
   "outputs": [
    {
     "name": "stdout",
     "output_type": "stream",
     "text": [
      "NI\n",
      "iNeuron\n"
     ]
    }
   ],
   "source": [
    "# String 'iNeuron' is assigned to GLOBAL VARIABLE X\n",
    "X = 'iNeuron'\n",
    "\n",
    "# Function is defined using def keyword with no arguments\n",
    "def func():\n",
    "\n",
    "    # Variable X is defined and it is a LOCAL VARIABLE because it is inside the function\n",
    "    X = 'NI'\n",
    "    \n",
    "    # Print command inside the function it will take LOCAL VARIABLE\n",
    "    print(X)\n",
    "\n",
    "\n",
    "# Because of the Print command inside the function it will print X = 'NI'\n",
    "func()\n",
    "\n",
    "# This print is outside the function it will take GLOBAL VARIABLE and print X = 'iNeuron'\n",
    "print(X)"
   ]
  },
  {
   "cell_type": "markdown",
   "metadata": {},
   "source": [
    "### 4. What output does this code produce? Why?"
   ]
  },
  {
   "cell_type": "code",
   "execution_count": 16,
   "metadata": {},
   "outputs": [
    {
     "name": "stdout",
     "output_type": "stream",
     "text": [
      "NI\n"
     ]
    }
   ],
   "source": [
    "# String 'iNeuron' is assigned to GLOBAL VARIABLE X\n",
    "X = 'iNeuron'\n",
    "\n",
    "# Function is defined using def keyword with no arguments\n",
    "def func():\n",
    "    \n",
    "    # Declaring that varible X is a GLOBAL VARIABLE\n",
    "    global X\n",
    "    \n",
    "    # Though X is inside the function but it is assigned as GLOBAL VARIABLE \n",
    "    X = 'NI'\n",
    "\n",
    "\n",
    "# Function will not result anything because no output command like print or return\n",
    "func()\n",
    "\n",
    "# This print is out of the function but it will print a defined GLOBAL VARIABLE\n",
    "# Since Global variable can be only on so it will take the defined value of GLOBAL VARAIBLE\n",
    "print(X)"
   ]
  },
  {
   "cell_type": "markdown",
   "metadata": {},
   "source": [
    "### 5. What about this code—what’s the output, and why?"
   ]
  },
  {
   "cell_type": "markdown",
   "metadata": {},
   "source": [
    "**LEGB Rule:**\n",
    "\n",
    "L: Local — Names assigned in any way within a function (def or lambda), and not declared global in that function.\n",
    "\n",
    "E: Enclosing function locals — Names in the local scope of any and all enclosing functions (def or lambda), from inner to outer.\n",
    "\n",
    "G: Global (module) — Names assigned at the top-level of a module file, or declared global in a def within the file.\n",
    "\n",
    "B: Built-in (Python) — Names preassigned in the built-in names module : open, range, SyntaxError,..."
   ]
  },
  {
   "cell_type": "code",
   "execution_count": 17,
   "metadata": {},
   "outputs": [
    {
     "name": "stdout",
     "output_type": "stream",
     "text": [
      "NI\n"
     ]
    },
    {
     "data": {
      "text/plain": [
       "'iNeuron'"
      ]
     },
     "execution_count": 17,
     "metadata": {},
     "output_type": "execute_result"
    }
   ],
   "source": [
    "# String 'iNeuron' is assigned to GLOBAL VARIABLE X\n",
    "X = 'iNeuron'\n",
    "\n",
    "# Function is defined using def keyword with no arguments\n",
    "def func():\n",
    "    \n",
    "    # Enclosing Function\n",
    "    X = 'NI'\n",
    "    \n",
    "    # function inside a function (nested functions)\n",
    "    def nested(): \n",
    "        \n",
    "        # Below command will print X but it will prefer Enclosing Function as it is inside the function\n",
    "        print(X)\n",
    "        \n",
    "    nested()\n",
    "\n",
    "# This function will return the value of nested function\n",
    "func()\n",
    "\n",
    "# This will give the out put of 'GLOBAL VARAIBLE'\n",
    "X"
   ]
  },
  {
   "cell_type": "markdown",
   "metadata": {},
   "source": [
    "### 6. How about this code: what is its output in Python 3, and explain"
   ]
  },
  {
   "cell_type": "code",
   "execution_count": 29,
   "metadata": {},
   "outputs": [
    {
     "name": "stdout",
     "output_type": "stream",
     "text": [
      "Spam\n"
     ]
    }
   ],
   "source": [
    "# Function is defined using def keyword with no arguments\n",
    "def func():\n",
    "    \n",
    "    # Enclosing Function\n",
    "    X = 'NI'\n",
    "    \n",
    "     # function inside a function (nested functions)\n",
    "    def nested():\n",
    "        \n",
    "        # Declaring X as nonlocal means GLOBAL VARAIBLE\n",
    "        nonlocal X \n",
    "        \n",
    "        # String 'Spam' assigned to GLOBAL VARIABLE X \n",
    "        X = 'Spam'\n",
    "        \n",
    "    # Calling nexted() function which defines that X is a GLOBAL VARIABLE \n",
    "    nested() \n",
    "    \n",
    "    # This will print GLOBAL VARIABLE X \n",
    "    print(X)\n",
    "\n",
    "# Calling function func()\n",
    "func()"
   ]
  }
 ],
 "metadata": {
  "kernelspec": {
   "display_name": "Python 3",
   "language": "python",
   "name": "python3"
  },
  "language_info": {
   "codemirror_mode": {
    "name": "ipython",
    "version": 3
   },
   "file_extension": ".py",
   "mimetype": "text/x-python",
   "name": "python",
   "nbconvert_exporter": "python",
   "pygments_lexer": "ipython3",
   "version": "3.8.5"
  }
 },
 "nbformat": 4,
 "nbformat_minor": 4
}
