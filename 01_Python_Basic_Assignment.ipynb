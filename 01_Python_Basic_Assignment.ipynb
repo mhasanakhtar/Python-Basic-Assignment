{
 "cells": [
  {
   "cell_type": "markdown",
   "metadata": {},
   "source": [
    "# Python Basics Assignment No. 1"
   ]
  },
  {
   "cell_type": "markdown",
   "metadata": {},
   "source": [
    "### Q 1: In the below elements which of them are values or an expression? eg:- values can be integer or string and expressions will be mathematical operators.\n",
    "\n",
    "*\n",
    "\n",
    "'hello'\n",
    "\n",
    "-87.8\n",
    "\n",
    "-\n",
    "\n",
    "/\n",
    "\n",
    "+\n",
    "\n",
    "6"
   ]
  },
  {
   "cell_type": "markdown",
   "metadata": {},
   "source": [
    "**Ans_1:**\n",
    "\n",
    "* **Values:** Values Can be integer, float or string, therefore following are the values which ar given in the question.\n",
    "\n",
    "> * str : 'hello'\n",
    "> * Float: -87.8\n",
    "> * int : 6\n",
    "\n",
    "* **Expressions:** They are the Mathematical Operators, which are used to perform mathematics operations.\n",
    "\n",
    "> * Multiply :  *\n",
    "> * Subtarct :  -\n",
    "> * Divide :  /\n",
    "> * Add : +"
   ]
  },
  {
   "cell_type": "code",
   "execution_count": 10,
   "metadata": {},
   "outputs": [
    {
     "data": {
      "text/plain": [
       "(4, 2, 5.0, 11)"
      ]
     },
     "execution_count": 10,
     "metadata": {},
     "output_type": "execute_result"
    }
   ],
   "source": [
    "#Example of Mathematical Operator\n",
    "\n",
    "a = 2*2\n",
    "b = 5-3\n",
    "c= 10/2\n",
    "d = 5+6\n",
    "\n",
    "a,b,c,d"
   ]
  },
  {
   "cell_type": "markdown",
   "metadata": {},
   "source": [
    "# "
   ]
  },
  {
   "cell_type": "markdown",
   "metadata": {},
   "source": [
    "### **Q 2 : What is the difference between string and variable?**"
   ]
  },
  {
   "cell_type": "markdown",
   "metadata": {},
   "source": [
    "**Ans_2:**\n",
    "\n",
    "* **String:** Strings are sequences of characters, using the syntax of either single  quotes or double quotes and it is one of the data type.\n",
    "\n",
    "> For example:\n",
    "'hello'\n",
    "\"Hello\"\n",
    "\" I don't do that \"\n",
    "\n",
    "\n",
    "* **Variables:** It is good to assign data types a variable name to easily reference them later in code. \n",
    "\n",
    "> For example:\n",
    "my_dogs = 2\n",
    "\n"
   ]
  },
  {
   "cell_type": "markdown",
   "metadata": {},
   "source": [
    "### Q 3: Describe three different data types"
   ]
  },
  {
   "cell_type": "markdown",
   "metadata": {},
   "source": [
    "**Ans_3:**\n",
    "\n",
    "**Three different Data Types in Python**\n",
    "\n",
    "**Data types are basic BUILDING BLOCKS blocks when constructing larger pieces of code.**\n",
    "\n",
    "\n",
    "\n",
    "\n",
    "1\\. **Integers:** These are whole numbers, such as:         3,     300. Integres are described by ***int***\n",
    "\n",
    "\n",
    "2\\. **Floating point:** Floating point numbers are the numbers with a decimal point:   such as 2.3,   4.6. Floting point numbers are described by ***float***      \n",
    "\n",
    "\n",
    "3\\. **Strings:** Strings are the ordered sequence of characters: \"hello\",  'Sammy' and they are described by ***str***         \n"
   ]
  },
  {
   "cell_type": "markdown",
   "metadata": {},
   "source": [
    "# "
   ]
  },
  {
   "cell_type": "markdown",
   "metadata": {},
   "source": [
    "### Q 4: What is an expression made up of? What do all expressions do? "
   ]
  },
  {
   "cell_type": "markdown",
   "metadata": {},
   "source": [
    "Ans: \n",
    "\n",
    "An expression is a combination of operators and operands that is interpreted to produce some other value \n",
    "\n",
    "For Example **y = 2x+1** is a mathematical expression \n",
    "\n",
    "Where,\n",
    "\n",
    "> * y = Dependent varaibel\n",
    "> * 2 = Coeffiecient of x\n",
    "> * x = Independent Varaible\n",
    "> * '+' = Mathematical operator used to add two quantities\n",
    "> * 1 = Constant\n",
    "\n",
    "Mathematical expression establish a relation between dependent and independent varaible. If independent varaibles are known than dependent varaible can be claculated."
   ]
  },
  {
   "cell_type": "markdown",
   "metadata": {},
   "source": [
    "# "
   ]
  },
  {
   "cell_type": "markdown",
   "metadata": {},
   "source": [
    "### Q 5: This assignment statements, like spam = 10. What is the difference between an expression and a statement?"
   ]
  },
  {
   "cell_type": "markdown",
   "metadata": {},
   "source": [
    "Ans:\n",
    "    \n",
    "**Statements** \n",
    "+ Statements are basiclly sentences for execution in the code. For example in spam = 10 indicates that varaible spam holds an integer 10. \n",
    "\n",
    "+ We often only want certain code to execute when a particular condition has been met. For example, if  my dog is hungry (some condition), then I will feed the dog (some action). To control this flow of logic we use some keywords: if, elif which are again the example of stamenets\n",
    "\n",
    "**Difference between an expression and a statemenet**\n",
    "+ As explained above Statements are basiclly sentences for execution in the code whereas Expression is made up of coefficeint, varibales and constants combined with mathematical Operators. Expression establish a relation between dependent and independent varaible and perform mathematical operation when executed in the code."
   ]
  },
  {
   "cell_type": "markdown",
   "metadata": {},
   "source": [
    "# "
   ]
  },
  {
   "cell_type": "markdown",
   "metadata": {},
   "source": [
    "### 6. After running the following code, what does the variable bacon contain?\n",
    "bacon = 22\n",
    "\n",
    "bacon + 1"
   ]
  },
  {
   "cell_type": "markdown",
   "metadata": {},
   "source": [
    "**Ans:**\n",
    "The varaibale bacon contains the integer (int)"
   ]
  },
  {
   "cell_type": "code",
   "execution_count": 2,
   "metadata": {},
   "outputs": [
    {
     "data": {
      "text/plain": [
       "23"
      ]
     },
     "execution_count": 2,
     "metadata": {},
     "output_type": "execute_result"
    }
   ],
   "source": [
    "bacon = 22\n",
    "\n",
    "bacon + 1"
   ]
  },
  {
   "cell_type": "code",
   "execution_count": 8,
   "metadata": {},
   "outputs": [
    {
     "data": {
      "text/plain": [
       "int"
      ]
     },
     "execution_count": 8,
     "metadata": {},
     "output_type": "execute_result"
    }
   ],
   "source": [
    "type(bacon)"
   ]
  },
  {
   "cell_type": "markdown",
   "metadata": {},
   "source": [
    "# "
   ]
  },
  {
   "cell_type": "markdown",
   "metadata": {},
   "source": [
    "### 7. What should the values of the following two terms be?\n",
    "'spam' + 'spamspam'\n",
    "\n",
    "'spam'* 3"
   ]
  },
  {
   "cell_type": "markdown",
   "metadata": {},
   "source": [
    "**Ans:** The value of above terms is going to be **'spamspamspam'** individually which is an string (str)"
   ]
  },
  {
   "cell_type": "code",
   "execution_count": 4,
   "metadata": {},
   "outputs": [
    {
     "data": {
      "text/plain": [
       "'spamspamspam'"
      ]
     },
     "execution_count": 4,
     "metadata": {},
     "output_type": "execute_result"
    }
   ],
   "source": [
    "'spam' + 'spamspam'\n",
    "\n",
    "#'spam'* 3"
   ]
  },
  {
   "cell_type": "code",
   "execution_count": 9,
   "metadata": {},
   "outputs": [
    {
     "data": {
      "text/plain": [
       "'spamspamspam'"
      ]
     },
     "execution_count": 9,
     "metadata": {},
     "output_type": "execute_result"
    }
   ],
   "source": [
    "#'spam' + 'spamspam'\n",
    "\n",
    "'spam'* 3"
   ]
  },
  {
   "cell_type": "markdown",
   "metadata": {},
   "source": [
    "# "
   ]
  },
  {
   "cell_type": "markdown",
   "metadata": {},
   "source": [
    "### 8. Why is eggs a valid variable name while 100 is invalid?"
   ]
  },
  {
   "cell_type": "markdown",
   "metadata": {},
   "source": [
    "**Ans:** Because it violets the rule for assgning varaible name as varaible name can not start with a number. Following are the rules which should be followed while assigning the varaible name:\n",
    "\n",
    "**Rules for variable names**\n",
    "\n",
    "* Names can not start with a number.\n",
    "* There can be no spaces in the name, use _ instead.\n",
    "* Can't use any of these symbols :'\",<>/?|\\()!@#$%^&*~-+\n",
    "* It's considered best practice (PEP8) that names are lowercase.\n",
    "* Avoid using words that have special meaning in Python like \"list\" and \"str\"\n"
   ]
  },
  {
   "cell_type": "markdown",
   "metadata": {},
   "source": [
    "# "
   ]
  },
  {
   "cell_type": "markdown",
   "metadata": {},
   "source": [
    "### 9. What are the three functions that can be used to get the integer, floating-point number, or string version of a value?"
   ]
  },
  {
   "cell_type": "markdown",
   "metadata": {},
   "source": [
    "int() , float() , and str( ) functions can be used to get the integer, floating-point number, or string version of a value"
   ]
  },
  {
   "cell_type": "markdown",
   "metadata": {},
   "source": [
    "# "
   ]
  },
  {
   "cell_type": "markdown",
   "metadata": {},
   "source": [
    "### 10. Why does this expression cause an error? How can you fix it?\n",
    "\n",
    "'I have eaten ' + 99 +  'burritos'"
   ]
  },
  {
   "cell_type": "code",
   "execution_count": 6,
   "metadata": {},
   "outputs": [
    {
     "ename": "TypeError",
     "evalue": "can only concatenate str (not \"int\") to str",
     "output_type": "error",
     "traceback": [
      "\u001b[1;31m---------------------------------------------------------------------------\u001b[0m",
      "\u001b[1;31mTypeError\u001b[0m                                 Traceback (most recent call last)",
      "\u001b[1;32m<ipython-input-6-5d717168837c>\u001b[0m in \u001b[0;36m<module>\u001b[1;34m\u001b[0m\n\u001b[1;32m----> 1\u001b[1;33m \u001b[1;34m'I have eaten '\u001b[0m \u001b[1;33m+\u001b[0m \u001b[1;36m99\u001b[0m \u001b[1;33m+\u001b[0m \u001b[1;34m'burritos'\u001b[0m\u001b[1;33m\u001b[0m\u001b[1;33m\u001b[0m\u001b[0m\n\u001b[0m",
      "\u001b[1;31mTypeError\u001b[0m: can only concatenate str (not \"int\") to str"
     ]
    }
   ],
   "source": [
    "'I have eaten ' + 99 + 'burritos'"
   ]
  },
  {
   "cell_type": "markdown",
   "metadata": {},
   "source": [
    "Ans: \n",
    "\n",
    "**'I have eaten ' + 99 + 'burritos**\n",
    "\n",
    "On execution it gives **TypeError:** can only concatenate str (not \"int\") to str\n",
    "\n",
    "It means that str can be concatenate with str only not with number (int)\n",
    "\n",
    "**To fix** it we need to give single or double quote to integer as shown below"
   ]
  },
  {
   "cell_type": "code",
   "execution_count": 11,
   "metadata": {},
   "outputs": [
    {
     "data": {
      "text/plain": [
       "'I have eaten 99burritos'"
      ]
     },
     "execution_count": 11,
     "metadata": {},
     "output_type": "execute_result"
    }
   ],
   "source": [
    "'I have eaten ' + '99' + 'burritos'"
   ]
  }
 ],
 "metadata": {
  "kernelspec": {
   "display_name": "Python 3",
   "language": "python",
   "name": "python3"
  },
  "language_info": {
   "codemirror_mode": {
    "name": "ipython",
    "version": 3
   },
   "file_extension": ".py",
   "mimetype": "text/x-python",
   "name": "python",
   "nbconvert_exporter": "python",
   "pygments_lexer": "ipython3",
   "version": "3.8.5"
  }
 },
 "nbformat": 4,
 "nbformat_minor": 4
}
