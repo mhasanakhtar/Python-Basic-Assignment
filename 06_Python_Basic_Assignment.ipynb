{
 "cells": [
  {
   "cell_type": "markdown",
   "metadata": {},
   "source": [
    "# Python Basic Assignment No.: 6"
   ]
  },
  {
   "cell_type": "markdown",
   "metadata": {},
   "source": [
    "### 1. What are escape characters, and how do you use them?"
   ]
  },
  {
   "cell_type": "markdown",
   "metadata": {},
   "source": [
    "To insert characters that are illegal in a string, use an escape character.\n",
    "\n",
    "An escape character is a backslash \\ followed by the character you want to insert.\n",
    "\n",
    "An example of an illegal character is a double quote inside a string that is surrounded by double quotes:"
   ]
  },
  {
   "cell_type": "code",
   "execution_count": 13,
   "metadata": {},
   "outputs": [
    {
     "ename": "SyntaxError",
     "evalue": "invalid syntax (<ipython-input-13-c2a381787f4f>, line 1)",
     "output_type": "error",
     "traceback": [
      "\u001b[1;36m  File \u001b[1;32m\"<ipython-input-13-c2a381787f4f>\"\u001b[1;36m, line \u001b[1;32m1\u001b[0m\n\u001b[1;33m    txt = \"We are the so-called \"Vikings\" from the north.\"\u001b[0m\n\u001b[1;37m                                 ^\u001b[0m\n\u001b[1;31mSyntaxError\u001b[0m\u001b[1;31m:\u001b[0m invalid syntax\n"
     ]
    }
   ],
   "source": [
    "txt = \"We are the so-called \"Vikings\" from the north.\"\n",
    "txt"
   ]
  },
  {
   "cell_type": "code",
   "execution_count": 14,
   "metadata": {},
   "outputs": [
    {
     "data": {
      "text/plain": [
       "'We are the so-called \"Vikings\" from the north.'"
      ]
     },
     "execution_count": 14,
     "metadata": {},
     "output_type": "execute_result"
    }
   ],
   "source": [
    "txt = \"We are the so-called \\\"Vikings\\\" from the north.\"\n",
    "txt"
   ]
  },
  {
   "cell_type": "raw",
   "metadata": {},
   "source": [
    "\\'\t  Single Quote\t\n",
    "\n",
    "\\n\t  New Line\t\n",
    "\\r\t  Carriage Return\t\n",
    "\\t\t  Tab\t\n",
    "\\b\t  Backspace\t\n",
    "\\f\t  Form Feed\t"
   ]
  },
  {
   "cell_type": "markdown",
   "metadata": {},
   "source": [
    "# "
   ]
  },
  {
   "cell_type": "markdown",
   "metadata": {},
   "source": [
    "### 2. What do the escape characters n and t stand for?"
   ]
  },
  {
   "cell_type": "markdown",
   "metadata": {},
   "source": [
    "<code>\\n</code>\t     Stands for **New Line**\t\n",
    "\n",
    "<code>\\t</code>    Stands for **Tab**"
   ]
  },
  {
   "cell_type": "code",
   "execution_count": 40,
   "metadata": {},
   "outputs": [
    {
     "name": "stdout",
     "output_type": "stream",
     "text": [
      "My name is \n",
      "HASAN\n",
      "I once caught a \tbig fish \n"
     ]
    }
   ],
   "source": [
    "# \\n to insert a new line into a string\n",
    "print('My name is \\nHASAN')\n",
    "\n",
    "\n",
    "# \\t to insert a tab into a string\n",
    "print('I once caught a \\tbig fish ')"
   ]
  },
  {
   "cell_type": "markdown",
   "metadata": {},
   "source": [
    "# "
   ]
  },
  {
   "cell_type": "markdown",
   "metadata": {},
   "source": [
    "### 3. What is the way to include backslash characters in a string?"
   ]
  },
  {
   "cell_type": "markdown",
   "metadata": {},
   "source": [
    "<code> \\\\\\ </code>\t  Backslash\t"
   ]
  },
  {
   "cell_type": "code",
   "execution_count": 38,
   "metadata": {},
   "outputs": [
    {
     "name": "stdout",
     "output_type": "stream",
     "text": [
      "My name is \\Hasan\n"
     ]
    }
   ],
   "source": [
    "print('My name is \\\\Hasan')"
   ]
  },
  {
   "cell_type": "markdown",
   "metadata": {},
   "source": [
    "# "
   ]
  },
  {
   "cell_type": "markdown",
   "metadata": {},
   "source": [
    "### 4. The string &quot;Howl&#39;s Moving Castle&quot; is a correct value. Why isn&#39;t the single quote character in the word Howl&#39;s not escaped a problem?"
   ]
  },
  {
   "cell_type": "code",
   "execution_count": 41,
   "metadata": {},
   "outputs": [
    {
     "data": {
      "text/plain": [
       "\"Howl's Moving Castle\""
      ]
     },
     "execution_count": 41,
     "metadata": {},
     "output_type": "execute_result"
    }
   ],
   "source": [
    "\"Howl's Moving Castle\"\n",
    "# It is correct becouse appostropy marks is single quote\n",
    "# whereas string is inside double quote"
   ]
  },
  {
   "cell_type": "markdown",
   "metadata": {},
   "source": [
    "# "
   ]
  },
  {
   "cell_type": "markdown",
   "metadata": {},
   "source": [
    "### 5. How do you write a string of newlines if you don&#39;t want to use the n character?"
   ]
  },
  {
   "cell_type": "code",
   "execution_count": 62,
   "metadata": {},
   "outputs": [
    {
     "name": "stdout",
     "output_type": "stream",
     "text": [
      "Python\n",
      "Java\n",
      "Cpp\n"
     ]
    }
   ],
   "source": [
    "newline = '\\n'\n",
    "print(f\"Python{newline}Java{newline}Cpp\")"
   ]
  },
  {
   "cell_type": "markdown",
   "metadata": {},
   "source": [
    "# "
   ]
  },
  {
   "cell_type": "markdown",
   "metadata": {},
   "source": [
    "### 6. What are the values of the given expressions?\n",
    "&#39;Hello, world!&#39;[1]\n",
    "\n",
    "\n",
    "&#39;Hello, world!&#39;[0:5]\n",
    "\n",
    "&#39;Hello, world!&#39;[:5]\n",
    "\n",
    "&#39;Hello, world!&#39;[3:]"
   ]
  },
  {
   "cell_type": "code",
   "execution_count": 63,
   "metadata": {},
   "outputs": [
    {
     "data": {
      "text/plain": [
       "'e'"
      ]
     },
     "execution_count": 63,
     "metadata": {},
     "output_type": "execute_result"
    }
   ],
   "source": [
    "'Hello, world!'[1] "
   ]
  },
  {
   "cell_type": "code",
   "execution_count": 64,
   "metadata": {},
   "outputs": [
    {
     "data": {
      "text/plain": [
       "'Hello'"
      ]
     },
     "execution_count": 64,
     "metadata": {},
     "output_type": "execute_result"
    }
   ],
   "source": [
    "'Hello, world!'[0:5]"
   ]
  },
  {
   "cell_type": "code",
   "execution_count": 65,
   "metadata": {},
   "outputs": [
    {
     "data": {
      "text/plain": [
       "'Hello'"
      ]
     },
     "execution_count": 65,
     "metadata": {},
     "output_type": "execute_result"
    }
   ],
   "source": [
    "'Hello, world!'[:5]"
   ]
  },
  {
   "cell_type": "code",
   "execution_count": 66,
   "metadata": {},
   "outputs": [
    {
     "data": {
      "text/plain": [
       "'lo, world!'"
      ]
     },
     "execution_count": 66,
     "metadata": {},
     "output_type": "execute_result"
    }
   ],
   "source": [
    "'Hello, world!'[3:]"
   ]
  },
  {
   "cell_type": "markdown",
   "metadata": {},
   "source": [
    "# "
   ]
  },
  {
   "cell_type": "markdown",
   "metadata": {},
   "source": [
    "\n",
    "### 7. What are the values of the following expressions?\n",
    "&#39;Hello&#39;.upper()\n",
    "&#39;Hello&#39;.upper().isupper()\n",
    "&#39;Hello&#39;.upper().lower()"
   ]
  },
  {
   "cell_type": "code",
   "execution_count": 5,
   "metadata": {},
   "outputs": [
    {
     "data": {
      "text/plain": [
       "'HELLO'"
      ]
     },
     "execution_count": 5,
     "metadata": {},
     "output_type": "execute_result"
    }
   ],
   "source": [
    "'Hello'.upper()"
   ]
  },
  {
   "cell_type": "code",
   "execution_count": 6,
   "metadata": {},
   "outputs": [
    {
     "data": {
      "text/plain": [
       "True"
      ]
     },
     "execution_count": 6,
     "metadata": {},
     "output_type": "execute_result"
    }
   ],
   "source": [
    "'Hello'.upper().isupper()"
   ]
  },
  {
   "cell_type": "code",
   "execution_count": 7,
   "metadata": {},
   "outputs": [
    {
     "data": {
      "text/plain": [
       "'hello'"
      ]
     },
     "execution_count": 7,
     "metadata": {},
     "output_type": "execute_result"
    }
   ],
   "source": [
    "'Hello'.upper().lower()"
   ]
  },
  {
   "cell_type": "markdown",
   "metadata": {},
   "source": [
    "# "
   ]
  },
  {
   "cell_type": "markdown",
   "metadata": {},
   "source": [
    "### 8. What are the values of the following expressions?\n",
    "&#39;Remember, remember, the fifth of July.&#39;.split()\n",
    "&#39;-&#39;.join(&#39;There can only one.&#39;.split())"
   ]
  },
  {
   "cell_type": "code",
   "execution_count": 2,
   "metadata": {},
   "outputs": [
    {
     "data": {
      "text/plain": [
       "['Remember,', 'remember,', 'the', 'fifth', 'of', 'July.']"
      ]
     },
     "execution_count": 2,
     "metadata": {},
     "output_type": "execute_result"
    }
   ],
   "source": [
    "'Remember, remember, the fifth of July.'.split() "
   ]
  },
  {
   "cell_type": "code",
   "execution_count": 3,
   "metadata": {},
   "outputs": [
    {
     "data": {
      "text/plain": [
       "'There-can-only-one.'"
      ]
     },
     "execution_count": 3,
     "metadata": {},
     "output_type": "execute_result"
    }
   ],
   "source": [
    "'-'.join('There can only one.'.split())"
   ]
  },
  {
   "cell_type": "markdown",
   "metadata": {},
   "source": [
    "# "
   ]
  },
  {
   "cell_type": "markdown",
   "metadata": {},
   "source": [
    "### 9. What are the methods for right-justifying, left-justifying, and centering a string?"
   ]
  },
  {
   "cell_type": "markdown",
   "metadata": {},
   "source": [
    "**center():** This function center aligns the string according to the width specified and fills remaining space of line with blank space if ‘ fillchr ‘ argument is not passed.\n",
    "\n",
    "**Syntax :**\n",
    "* center( len, fillchr )\n",
    "\n",
    "**Parameters :**\n",
    "\n",
    "* len : The width of string to expand it.\n",
    "\n",
    "* fillchr (optional): The character to fill in remaining space.\n",
    "\n",
    "**Return Value :**\n",
    "* The resultant center aligned string expanding the given width."
   ]
  },
  {
   "cell_type": "code",
   "execution_count": 68,
   "metadata": {},
   "outputs": [
    {
     "name": "stdout",
     "output_type": "stream",
     "text": [
      "The original string is : \n",
      " I love iNeuron \n",
      "\n",
      "The center aligned string is : \n",
      "             I love iNeuron              \n",
      "\n",
      "Center aligned string with fillchr: \n",
      "#############I love iNeuron#############\n"
     ]
    }
   ],
   "source": [
    "cstr = \"I love iNeuron\"\n",
    "  \n",
    "# Printing the original string\n",
    "print (\"The original string is : \\n\", cstr, \"\\n\")\n",
    "  \n",
    "# Printing the center aligned string \n",
    "print (\"The center aligned string is : \")\n",
    "print (cstr.center(40), \"\\n\")\n",
    "  \n",
    "# Printing the center aligned \n",
    "# string with fillchr\n",
    "print (\"Center aligned string with fillchr: \")\n",
    "print (cstr.center(40, '#'))"
   ]
  },
  {
   "cell_type": "markdown",
   "metadata": {},
   "source": [
    "**rjust()**\n",
    "This function right aligns the string according to the width specified and fills remaining space of line with blank space if ‘ fillchr ‘ argument is not passed.\n",
    "\n",
    "\n",
    "**Syntax :**\n",
    "* ljust( len, fillchr )\n",
    "\n",
    "**Parameters :**\n",
    "* len : The width of string to expand it.\n",
    "* fillchr (optional) : The character to fill in remaining space.\n",
    "\n",
    "**Return Value :**\n",
    "* The resultant right aligned string expanding the given width.\n",
    "\n",
    "\n",
    "\n",
    "**ljust()**\n",
    "This function left aligns the string according to the width specified and fills remaining space of line with blank space if ‘ fillchr ‘ argument is not passed.\n",
    "\n",
    "**Syntax :**\n",
    "* ljust( len, fillchr )\n",
    "\n",
    "**Parameters :**\n",
    "* len : The width of string to expand it.\n",
    "* fillchr (optional): The character to fill in remaining space.\n",
    "\n",
    "**Return Value :**\n",
    "* The resultant left aligned string expanding the given width."
   ]
  },
  {
   "cell_type": "markdown",
   "metadata": {},
   "source": [
    "# "
   ]
  },
  {
   "cell_type": "markdown",
   "metadata": {},
   "source": [
    "### 10. What is the best way to remove whitespace characters from the start or end?"
   ]
  },
  {
   "cell_type": "markdown",
   "metadata": {},
   "source": [
    "The Python String strip() method is part of the built-in function available in python. The function will remove given characters from the start and end of the original string. Also, this function is very helpful in removing the whitespaces at the start and end of the given string."
   ]
  },
  {
   "cell_type": "code",
   "execution_count": 70,
   "metadata": {},
   "outputs": [
    {
     "name": "stdout",
     "output_type": "stream",
     "text": [
      "Welcome to iNeuron!\n"
     ]
    }
   ],
   "source": [
    "str1 = \"****Welcome to iNeuron!****\"\n",
    "after_strip = str1.strip(\"*\")\n",
    "print(after_strip)"
   ]
  },
  {
   "cell_type": "code",
   "execution_count": 72,
   "metadata": {},
   "outputs": [
    {
     "name": "stdout",
     "output_type": "stream",
     "text": [
      "Welcome to iNeuron!\n"
     ]
    }
   ],
   "source": [
    "str1 = \"        Welcome to iNeuron!       \"\n",
    "after_strip = str1.strip()\n",
    "print(after_strip)"
   ]
  },
  {
   "cell_type": "markdown",
   "metadata": {},
   "source": [
    "# "
   ]
  }
 ],
 "metadata": {
  "kernelspec": {
   "display_name": "Python 3",
   "language": "python",
   "name": "python3"
  },
  "language_info": {
   "codemirror_mode": {
    "name": "ipython",
    "version": 3
   },
   "file_extension": ".py",
   "mimetype": "text/x-python",
   "name": "python",
   "nbconvert_exporter": "python",
   "pygments_lexer": "ipython3",
   "version": "3.8.5"
  }
 },
 "nbformat": 4,
 "nbformat_minor": 4
}
