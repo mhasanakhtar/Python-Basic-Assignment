{
 "cells": [
  {
   "cell_type": "markdown",
   "metadata": {},
   "source": [
    "# Python Basic Assignment No.: 13"
   ]
  },
  {
   "cell_type": "markdown",
   "metadata": {},
   "source": [
    "### 1. What advantages do Excel spreadsheets have over CSV spreadsheets?"
   ]
  },
  {
   "cell_type": "markdown",
   "metadata": {},
   "source": [
    "* IExcel spreadsheets is a binary file that holds information about all the worksheets in a workbook whereas CSV s a plain text format with a series of values separated by commas.\n",
    "\n",
    "* An Excel not only stores data but can also do operations on the data but in A CSV file is just a text file, it stores data but does not contain formatting, formulas.\n",
    "\n",
    "* Excel sheet is distributed and sequential divided in columns headings and all but csv is comma seprated value sheets is the just all rows are in .txt file is seprated by comma.There is no distribution in between them."
   ]
  },
  {
   "cell_type": "markdown",
   "metadata": {},
   "source": [
    "# "
   ]
  },
  {
   "cell_type": "markdown",
   "metadata": {},
   "source": [
    "### 2.What do you pass to csv.reader() and csv.writer() to create reader and writer objects?"
   ]
  },
  {
   "cell_type": "markdown",
   "metadata": {},
   "source": [
    "**The complete syntax of the <code>csv.reader()</code> function is:**\n",
    "\n",
    "<code>csv.reader(csvfile, dialect='excel', **optional_parameters)</code>\n",
    "\n",
    "As we can see from the syntax, we can also pass the dialect parameter to the <code>csv.reader()</code> function. The dialect parameter allows us to make the function more flexible. \n",
    "\n",
    "**To write to a CSV file in Python, we can use the <code>csv.writer()</code> function.**\n"
   ]
  },
  {
   "cell_type": "code",
   "execution_count": 4,
   "metadata": {},
   "outputs": [],
   "source": [
    "import csv\n",
    "with open('protagonist.csv', 'w', newline='') as file:\n",
    "    writer = csv.writer(file)\n",
    "    writer.writerow([\"SN\", \"Movie\", \"Protagonist\"])\n",
    "    writer.writerow([1, \"Lord of the Rings\", \"Frodo Baggins\"])\n",
    "    writer.writerow([2, \"Harry Potter\", \"Harry Potter\"])"
   ]
  },
  {
   "cell_type": "markdown",
   "metadata": {},
   "source": [
    "# "
   ]
  },
  {
   "cell_type": "markdown",
   "metadata": {},
   "source": [
    "### 3. What modes do File objects for reader and writer objects need to be opened in?"
   ]
  },
  {
   "cell_type": "raw",
   "metadata": {},
   "source": [
    "we can open in following modes\n",
    "r\n",
    "w\n",
    "r+\n",
    "rb+\n",
    "w\n",
    "a\n",
    "a+"
   ]
  },
  {
   "cell_type": "markdown",
   "metadata": {},
   "source": [
    "# "
   ]
  },
  {
   "cell_type": "markdown",
   "metadata": {},
   "source": [
    "### 4. What method takes a list argument and writes it to a CSV file?"
   ]
  },
  {
   "cell_type": "code",
   "execution_count": 5,
   "metadata": {},
   "outputs": [],
   "source": [
    "file_to_output = open('to_save_file.csv','w',newline='')\n",
    "csv_writer = csv.writer(file_to_output,delimiter=',')\n",
    "csv_writer.writerow(['a','b','c'])\n",
    "csv_writer.writerows([['1','2','3'],['4','5','6']])"
   ]
  },
  {
   "cell_type": "markdown",
   "metadata": {},
   "source": [
    "# "
   ]
  },
  {
   "cell_type": "markdown",
   "metadata": {},
   "source": [
    "### 5. What do the keyword arguments delimiter and line terminator do?"
   ]
  },
  {
   "cell_type": "markdown",
   "metadata": {},
   "source": [
    "* The <code>delimiter</code> is the character that appears between cells on a row. By default, the delimiter for a CSV file is a comma. \n",
    "\n",
    "* The <code>line terminator</code> is the character that comes at the end of a row. By default, the line terminator is a newline. \n",
    "\n",
    "* We can change characters to different values by using the delimiter and lineterminator keyword arguments with csv.writer()."
   ]
  },
  {
   "cell_type": "markdown",
   "metadata": {},
   "source": [
    "# "
   ]
  },
  {
   "cell_type": "markdown",
   "metadata": {},
   "source": [
    "### 6. What function takes a string of JSON data and returns a Python data structure?"
   ]
  },
  {
   "cell_type": "markdown",
   "metadata": {},
   "source": [
    "* **<code>decode(o)</code>**– or <code>**json.loads()**</code> method return Python data structure of JSON string or data"
   ]
  },
  {
   "cell_type": "code",
   "execution_count": 8,
   "metadata": {},
   "outputs": [
    {
     "data": {
      "text/plain": [
       "{'name': 'Zophie', 'isCat': True, 'miceCaught': 0, 'felineIQ': None}"
      ]
     },
     "execution_count": 8,
     "metadata": {},
     "output_type": "execute_result"
    }
   ],
   "source": [
    "import json\n",
    "\n",
    "stringOfJsonData = '{\"name\": \"Zophie\", \"isCat\": true, \"miceCaught\": 0,\"felineIQ\": null}'\n",
    "\n",
    "jsonDataAsPythonValue = json.loads(stringOfJsonData)\n",
    "\n",
    "jsonDataAsPythonValue"
   ]
  },
  {
   "cell_type": "markdown",
   "metadata": {},
   "source": [
    "# "
   ]
  },
  {
   "cell_type": "markdown",
   "metadata": {},
   "source": [
    "### 7. What function takes a Python data structure and returns a string of JSON data?"
   ]
  },
  {
   "cell_type": "markdown",
   "metadata": {},
   "source": [
    "* <code>json.dumps()</code> function  will translate a Python value into a string of JSON-formatted data."
   ]
  },
  {
   "cell_type": "code",
   "execution_count": 10,
   "metadata": {},
   "outputs": [
    {
     "data": {
      "text/plain": [
       "'{\"isCat\": true, \"miceCaught\": 0, \"name\": \"Zophie\", \"felineIQ\": null}'"
      ]
     },
     "execution_count": 10,
     "metadata": {},
     "output_type": "execute_result"
    }
   ],
   "source": [
    "import json\n",
    "\n",
    "pythonValue = {'isCat': True, 'miceCaught': 0, 'name': 'Zophie','felineIQ': None}\n",
    "\n",
    "stringOfJsonData = json.dumps(pythonValue)\n",
    "\n",
    "stringOfJsonData"
   ]
  },
  {
   "cell_type": "code",
   "execution_count": null,
   "metadata": {},
   "outputs": [],
   "source": []
  }
 ],
 "metadata": {
  "kernelspec": {
   "display_name": "Python 3",
   "language": "python",
   "name": "python3"
  },
  "language_info": {
   "codemirror_mode": {
    "name": "ipython",
    "version": 3
   },
   "file_extension": ".py",
   "mimetype": "text/x-python",
   "name": "python",
   "nbconvert_exporter": "python",
   "pygments_lexer": "ipython3",
   "version": "3.8.5"
  }
 },
 "nbformat": 4,
 "nbformat_minor": 4
}
